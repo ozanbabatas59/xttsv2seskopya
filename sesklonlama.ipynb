{
  "nbformat": 4,
  "nbformat_minor": 0,
  "metadata": {
    "colab": {
      "provenance": [],
      "history_visible": true,
      "machine_shape": "hm"
    },
    "kernelspec": {
      "name": "python3",
      "display_name": "Python 3"
    },
    "language_info": {
      "name": "python"
    }
  },
  "cells": [
    {
      "cell_type": "code",
      "execution_count": null,
      "metadata": {
        "id": "uKemBKwH1-3r"
      },
      "outputs": [],
      "source": [
        "!pip install TTS"
      ]
    },
    {
      "cell_type": "code",
      "source": [
        "from TTS.api import TTS\n",
        "\n",
        "# XTTS v2 modelini kullanarak konuşma üretme\n",
        "tts = TTS(model_name=\"tts_models/multilingual/multi-dataset/xtts_v2\")\n",
        "\n",
        "# Türkçe dili için `language=\"tr\"` parametresini ekliyoruz\n",
        "tts.tts_to_file(\n",
        "    text=\"Türkiye’deki ilk yenilik merkezi ile bilişim ve hızlı prototipleme laboratuvarlarının Gaziantep’te kurulması için çalıştı. Çok sayıda özgün makale, tebliğ ve kitapları yayınlandı.\",\n",
        "    speaker_wav=\"ornek_ses.wav\",  # Klonlanmış ses dosyanız\n",
        "    language=\"tr\",  # Dil seçeneği\n",
        "    file_path=\"output.wav\"  # Çıktı dosyası\n",
        ")\n"
      ],
      "metadata": {
        "id": "oXk4PNCn2FkL"
      },
      "execution_count": null,
      "outputs": []
    }
  ]
}